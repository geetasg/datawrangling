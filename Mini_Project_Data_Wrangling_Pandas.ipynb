{
 "cells": [
  {
   "cell_type": "markdown",
   "metadata": {},
   "source": [
    "# Mini-Project: Data Wrangling and Transformation with Pandas\n",
    "\n",
    "Working with tabular data is a necessity for anyone with enterprises having a majority of their data in relational databases and flat files. This mini-project is adopted from the excellent tutorial on pandas by Brandon Rhodes which you have watched earlier in the Data Wrangling Unit. In this mini-project, we will be looking at some interesting data based on movie data from the IMDB.\n",
    "\n",
    "This assignment should help you reinforce the concepts you learnt in the curriculum for Data Wrangling and sharpen your skills in using Pandas. Good Luck!"
   ]
  },
  {
   "cell_type": "markdown",
   "metadata": {},
   "source": [
    "### Please make sure you have one of the more recent versions of Pandas"
   ]
  },
  {
   "cell_type": "code",
   "execution_count": 1,
   "metadata": {},
   "outputs": [
    {
     "name": "stdout",
     "output_type": "stream",
     "text": [
      "Collecting pandas==0.23\n",
      "\u001b[?25l  Downloading https://files.pythonhosted.org/packages/69/ec/8ff0800b8594691759b78a42ccd616f81e7099ee47b167eb9bbd502c02b9/pandas-0.23.0-cp36-cp36m-manylinux1_x86_64.whl (11.7MB)\n",
      "\u001b[K    100% |████████████████████████████████| 11.7MB 2.3MB/s eta 0:00:01\n",
      "\u001b[?25hRequirement already satisfied: python-dateutil>=2.5.0 in /usr/local/anaconda/lib/python3.6/site-packages (from pandas==0.23) (2.7.3)\n",
      "Requirement already satisfied: pytz>=2011k in /usr/local/anaconda/lib/python3.6/site-packages (from pandas==0.23) (2018.4)\n",
      "Requirement already satisfied: numpy>=1.9.0 in /usr/local/anaconda/lib/python3.6/site-packages (from pandas==0.23) (1.13.3)\n",
      "Requirement already satisfied: six>=1.5 in /usr/local/anaconda/lib/python3.6/site-packages (from python-dateutil>=2.5.0->pandas==0.23) (1.11.0)\n",
      "\u001b[31mpyspark 2.4.0 requires py4j==0.10.7, which is not installed.\u001b[0m\n",
      "Installing collected packages: pandas\n",
      "  Found existing installation: pandas 0.20.3\n",
      "    Uninstalling pandas-0.20.3:\n",
      "      Successfully uninstalled pandas-0.20.3\n",
      "Successfully installed pandas-0.23.0\n",
      "\u001b[33mYou are using pip version 10.0.1, however version 19.1.1 is available.\n",
      "You should consider upgrading via the 'pip install --upgrade pip' command.\u001b[0m\n"
     ]
    }
   ],
   "source": [
    "!pip install pandas==0.23"
   ]
  },
  {
   "cell_type": "code",
   "execution_count": 2,
   "metadata": {
    "collapsed": true
   },
   "outputs": [],
   "source": [
    "import pandas as pd\n",
    "import matplotlib.pyplot as plt\n",
    "\n",
    "%matplotlib inline"
   ]
  },
  {
   "cell_type": "code",
   "execution_count": 3,
   "metadata": {},
   "outputs": [
    {
     "data": {
      "text/plain": [
       "'0.23.0'"
      ]
     },
     "execution_count": 3,
     "metadata": {},
     "output_type": "execute_result"
    }
   ],
   "source": [
    "pd.__version__"
   ]
  },
  {
   "cell_type": "markdown",
   "metadata": {},
   "source": [
    "## Taking a look at the Movies dataset\n",
    "This data shows the movies based on their title and the year of release"
   ]
  },
  {
   "cell_type": "code",
   "execution_count": 4,
   "metadata": {},
   "outputs": [
    {
     "name": "stdout",
     "output_type": "stream",
     "text": [
      "<class 'pandas.core.frame.DataFrame'>\n",
      "RangeIndex: 244914 entries, 0 to 244913\n",
      "Data columns (total 2 columns):\n",
      "title    244914 non-null object\n",
      "year     244914 non-null int64\n",
      "dtypes: int64(1), object(1)\n",
      "memory usage: 3.7+ MB\n"
     ]
    }
   ],
   "source": [
    "movies = pd.read_csv('titles.csv.bz2', compression='bz2')\n",
    "movies.info()"
   ]
  },
  {
   "cell_type": "code",
   "execution_count": 5,
   "metadata": {},
   "outputs": [
    {
     "data": {
      "text/html": [
       "<div>\n",
       "<style scoped>\n",
       "    .dataframe tbody tr th:only-of-type {\n",
       "        vertical-align: middle;\n",
       "    }\n",
       "\n",
       "    .dataframe tbody tr th {\n",
       "        vertical-align: top;\n",
       "    }\n",
       "\n",
       "    .dataframe thead th {\n",
       "        text-align: right;\n",
       "    }\n",
       "</style>\n",
       "<table border=\"1\" class=\"dataframe\">\n",
       "  <thead>\n",
       "    <tr style=\"text-align: right;\">\n",
       "      <th></th>\n",
       "      <th>title</th>\n",
       "      <th>year</th>\n",
       "    </tr>\n",
       "  </thead>\n",
       "  <tbody>\n",
       "    <tr>\n",
       "      <th>0</th>\n",
       "      <td>The Ticket to the Life</td>\n",
       "      <td>2009</td>\n",
       "    </tr>\n",
       "    <tr>\n",
       "      <th>1</th>\n",
       "      <td>Parallel Worlds: A New Rock Music Experience</td>\n",
       "      <td>2016</td>\n",
       "    </tr>\n",
       "    <tr>\n",
       "      <th>2</th>\n",
       "      <td>Morita - La hija de Jesus</td>\n",
       "      <td>2008</td>\n",
       "    </tr>\n",
       "    <tr>\n",
       "      <th>3</th>\n",
       "      <td>Gun</td>\n",
       "      <td>2017</td>\n",
       "    </tr>\n",
       "    <tr>\n",
       "      <th>4</th>\n",
       "      <td>Love or Nothing at All</td>\n",
       "      <td>2014</td>\n",
       "    </tr>\n",
       "  </tbody>\n",
       "</table>\n",
       "</div>"
      ],
      "text/plain": [
       "                                          title  year\n",
       "0                        The Ticket to the Life  2009\n",
       "1  Parallel Worlds: A New Rock Music Experience  2016\n",
       "2                     Morita - La hija de Jesus  2008\n",
       "3                                           Gun  2017\n",
       "4                        Love or Nothing at All  2014"
      ]
     },
     "execution_count": 5,
     "metadata": {},
     "output_type": "execute_result"
    }
   ],
   "source": [
    "movies.head()"
   ]
  },
  {
   "cell_type": "markdown",
   "metadata": {},
   "source": [
    "## Taking a look at the Cast dataset\n",
    "\n",
    "This data shows the cast (actors, actresses, supporting roles) for each movie\n",
    "\n",
    "- The attribute `n` basically tells the importance of the cast role, lower the number, more important the role.\n",
    "- Supporting cast usually don't have any value for `n`"
   ]
  },
  {
   "cell_type": "code",
   "execution_count": 6,
   "metadata": {},
   "outputs": [
    {
     "name": "stdout",
     "output_type": "stream",
     "text": [
      "<class 'pandas.core.frame.DataFrame'>\n",
      "RangeIndex: 3786176 entries, 0 to 3786175\n",
      "Data columns (total 6 columns):\n",
      "title        object\n",
      "year         int64\n",
      "name         object\n",
      "type         object\n",
      "character    object\n",
      "n            float64\n",
      "dtypes: float64(1), int64(1), object(4)\n",
      "memory usage: 173.3+ MB\n"
     ]
    }
   ],
   "source": [
    "cast = pd.read_csv('cast.csv.bz2', compression='bz2')\n",
    "cast.info()"
   ]
  },
  {
   "cell_type": "code",
   "execution_count": 7,
   "metadata": {},
   "outputs": [
    {
     "data": {
      "text/html": [
       "<div>\n",
       "<style scoped>\n",
       "    .dataframe tbody tr th:only-of-type {\n",
       "        vertical-align: middle;\n",
       "    }\n",
       "\n",
       "    .dataframe tbody tr th {\n",
       "        vertical-align: top;\n",
       "    }\n",
       "\n",
       "    .dataframe thead th {\n",
       "        text-align: right;\n",
       "    }\n",
       "</style>\n",
       "<table border=\"1\" class=\"dataframe\">\n",
       "  <thead>\n",
       "    <tr style=\"text-align: right;\">\n",
       "      <th></th>\n",
       "      <th>title</th>\n",
       "      <th>year</th>\n",
       "      <th>name</th>\n",
       "      <th>type</th>\n",
       "      <th>character</th>\n",
       "      <th>n</th>\n",
       "    </tr>\n",
       "  </thead>\n",
       "  <tbody>\n",
       "    <tr>\n",
       "      <th>0</th>\n",
       "      <td>Closet Monster</td>\n",
       "      <td>2015</td>\n",
       "      <td>Buffy #1</td>\n",
       "      <td>actor</td>\n",
       "      <td>Buffy 4</td>\n",
       "      <td>31.0</td>\n",
       "    </tr>\n",
       "    <tr>\n",
       "      <th>1</th>\n",
       "      <td>Suuri illusioni</td>\n",
       "      <td>1985</td>\n",
       "      <td>Homo $</td>\n",
       "      <td>actor</td>\n",
       "      <td>Guests</td>\n",
       "      <td>22.0</td>\n",
       "    </tr>\n",
       "    <tr>\n",
       "      <th>2</th>\n",
       "      <td>Battle of the Sexes</td>\n",
       "      <td>2017</td>\n",
       "      <td>$hutter</td>\n",
       "      <td>actor</td>\n",
       "      <td>Bobby Riggs Fan</td>\n",
       "      <td>10.0</td>\n",
       "    </tr>\n",
       "    <tr>\n",
       "      <th>3</th>\n",
       "      <td>Secret in Their Eyes</td>\n",
       "      <td>2015</td>\n",
       "      <td>$hutter</td>\n",
       "      <td>actor</td>\n",
       "      <td>2002 Dodger Fan</td>\n",
       "      <td>NaN</td>\n",
       "    </tr>\n",
       "    <tr>\n",
       "      <th>4</th>\n",
       "      <td>Steve Jobs</td>\n",
       "      <td>2015</td>\n",
       "      <td>$hutter</td>\n",
       "      <td>actor</td>\n",
       "      <td>1988 Opera House Patron</td>\n",
       "      <td>NaN</td>\n",
       "    </tr>\n",
       "    <tr>\n",
       "      <th>5</th>\n",
       "      <td>Straight Outta Compton</td>\n",
       "      <td>2015</td>\n",
       "      <td>$hutter</td>\n",
       "      <td>actor</td>\n",
       "      <td>Club Patron</td>\n",
       "      <td>NaN</td>\n",
       "    </tr>\n",
       "    <tr>\n",
       "      <th>6</th>\n",
       "      <td>Straight Outta Compton</td>\n",
       "      <td>2015</td>\n",
       "      <td>$hutter</td>\n",
       "      <td>actor</td>\n",
       "      <td>Dopeman</td>\n",
       "      <td>NaN</td>\n",
       "    </tr>\n",
       "    <tr>\n",
       "      <th>7</th>\n",
       "      <td>For Thy Love 2</td>\n",
       "      <td>2009</td>\n",
       "      <td>Bee Moe $lim</td>\n",
       "      <td>actor</td>\n",
       "      <td>Thug 1</td>\n",
       "      <td>NaN</td>\n",
       "    </tr>\n",
       "    <tr>\n",
       "      <th>8</th>\n",
       "      <td>Lapis, Ballpen at Diploma, a True to Life Journey</td>\n",
       "      <td>2014</td>\n",
       "      <td>Jori ' Danilo' Jurado Jr.</td>\n",
       "      <td>actor</td>\n",
       "      <td>Jaime (young)</td>\n",
       "      <td>9.0</td>\n",
       "    </tr>\n",
       "    <tr>\n",
       "      <th>9</th>\n",
       "      <td>Desire (III)</td>\n",
       "      <td>2014</td>\n",
       "      <td>Syaiful 'Ariffin</td>\n",
       "      <td>actor</td>\n",
       "      <td>Actor Playing Eteocles from 'Antigone'</td>\n",
       "      <td>NaN</td>\n",
       "    </tr>\n",
       "  </tbody>\n",
       "</table>\n",
       "</div>"
      ],
      "text/plain": [
       "                                               title  year  \\\n",
       "0                                     Closet Monster  2015   \n",
       "1                                    Suuri illusioni  1985   \n",
       "2                                Battle of the Sexes  2017   \n",
       "3                               Secret in Their Eyes  2015   \n",
       "4                                         Steve Jobs  2015   \n",
       "5                             Straight Outta Compton  2015   \n",
       "6                             Straight Outta Compton  2015   \n",
       "7                                     For Thy Love 2  2009   \n",
       "8  Lapis, Ballpen at Diploma, a True to Life Journey  2014   \n",
       "9                                       Desire (III)  2014   \n",
       "\n",
       "                        name   type                               character  \\\n",
       "0                   Buffy #1  actor                                 Buffy 4   \n",
       "1                     Homo $  actor                                  Guests   \n",
       "2                    $hutter  actor                         Bobby Riggs Fan   \n",
       "3                    $hutter  actor                         2002 Dodger Fan   \n",
       "4                    $hutter  actor                 1988 Opera House Patron   \n",
       "5                    $hutter  actor                             Club Patron   \n",
       "6                    $hutter  actor                                 Dopeman   \n",
       "7               Bee Moe $lim  actor                                  Thug 1   \n",
       "8  Jori ' Danilo' Jurado Jr.  actor                           Jaime (young)   \n",
       "9           Syaiful 'Ariffin  actor  Actor Playing Eteocles from 'Antigone'   \n",
       "\n",
       "      n  \n",
       "0  31.0  \n",
       "1  22.0  \n",
       "2  10.0  \n",
       "3   NaN  \n",
       "4   NaN  \n",
       "5   NaN  \n",
       "6   NaN  \n",
       "7   NaN  \n",
       "8   9.0  \n",
       "9   NaN  "
      ]
     },
     "execution_count": 7,
     "metadata": {},
     "output_type": "execute_result"
    }
   ],
   "source": [
    "cast.head(10)"
   ]
  },
  {
   "cell_type": "markdown",
   "metadata": {},
   "source": [
    "## Taking a look at the Release dataset\n",
    "\n",
    "This data shows details of when each movie was release in each country with the release date"
   ]
  },
  {
   "cell_type": "code",
   "execution_count": 8,
   "metadata": {},
   "outputs": [
    {
     "name": "stdout",
     "output_type": "stream",
     "text": [
      "<class 'pandas.core.frame.DataFrame'>\n",
      "RangeIndex: 479488 entries, 0 to 479487\n",
      "Data columns (total 4 columns):\n",
      "title      479488 non-null object\n",
      "year       479488 non-null int64\n",
      "country    479488 non-null object\n",
      "date       479488 non-null datetime64[ns]\n",
      "dtypes: datetime64[ns](1), int64(1), object(2)\n",
      "memory usage: 14.6+ MB\n"
     ]
    }
   ],
   "source": [
    "release_dates = pd.read_csv('release_dates.csv.bz2', compression='bz2', parse_dates=['date'], infer_datetime_format=True)\n",
    "release_dates.info()"
   ]
  },
  {
   "cell_type": "code",
   "execution_count": 9,
   "metadata": {},
   "outputs": [
    {
     "data": {
      "text/html": [
       "<div>\n",
       "<style scoped>\n",
       "    .dataframe tbody tr th:only-of-type {\n",
       "        vertical-align: middle;\n",
       "    }\n",
       "\n",
       "    .dataframe tbody tr th {\n",
       "        vertical-align: top;\n",
       "    }\n",
       "\n",
       "    .dataframe thead th {\n",
       "        text-align: right;\n",
       "    }\n",
       "</style>\n",
       "<table border=\"1\" class=\"dataframe\">\n",
       "  <thead>\n",
       "    <tr style=\"text-align: right;\">\n",
       "      <th></th>\n",
       "      <th>title</th>\n",
       "      <th>year</th>\n",
       "      <th>country</th>\n",
       "      <th>date</th>\n",
       "    </tr>\n",
       "  </thead>\n",
       "  <tbody>\n",
       "    <tr>\n",
       "      <th>0</th>\n",
       "      <td>#73, Shaanthi Nivaasa</td>\n",
       "      <td>2007</td>\n",
       "      <td>India</td>\n",
       "      <td>2007-06-15</td>\n",
       "    </tr>\n",
       "    <tr>\n",
       "      <th>1</th>\n",
       "      <td>#BKKY</td>\n",
       "      <td>2016</td>\n",
       "      <td>Cambodia</td>\n",
       "      <td>2017-10-12</td>\n",
       "    </tr>\n",
       "    <tr>\n",
       "      <th>2</th>\n",
       "      <td>#Beings</td>\n",
       "      <td>2015</td>\n",
       "      <td>Romania</td>\n",
       "      <td>2015-01-29</td>\n",
       "    </tr>\n",
       "    <tr>\n",
       "      <th>3</th>\n",
       "      <td>#Captured</td>\n",
       "      <td>2017</td>\n",
       "      <td>USA</td>\n",
       "      <td>2017-09-05</td>\n",
       "    </tr>\n",
       "    <tr>\n",
       "      <th>4</th>\n",
       "      <td>#Ewankosau saranghaeyo</td>\n",
       "      <td>2015</td>\n",
       "      <td>Philippines</td>\n",
       "      <td>2015-01-21</td>\n",
       "    </tr>\n",
       "  </tbody>\n",
       "</table>\n",
       "</div>"
      ],
      "text/plain": [
       "                    title  year      country       date\n",
       "0   #73, Shaanthi Nivaasa  2007        India 2007-06-15\n",
       "1                   #BKKY  2016     Cambodia 2017-10-12\n",
       "2                 #Beings  2015      Romania 2015-01-29\n",
       "3               #Captured  2017          USA 2017-09-05\n",
       "4  #Ewankosau saranghaeyo  2015  Philippines 2015-01-21"
      ]
     },
     "execution_count": 9,
     "metadata": {},
     "output_type": "execute_result"
    }
   ],
   "source": [
    "release_dates.head()"
   ]
  },
  {
   "cell_type": "markdown",
   "metadata": {},
   "source": [
    "# Section I - Basic Querying, Filtering and Transformations"
   ]
  },
  {
   "cell_type": "markdown",
   "metadata": {},
   "source": [
    "### What is the total number of movies?"
   ]
  },
  {
   "cell_type": "code",
   "execution_count": 11,
   "metadata": {},
   "outputs": [
    {
     "data": {
      "text/plain": [
       "244914"
      ]
     },
     "execution_count": 11,
     "metadata": {},
     "output_type": "execute_result"
    }
   ],
   "source": [
    "len(movies)"
   ]
  },
  {
   "cell_type": "markdown",
   "metadata": {},
   "source": [
    "### List all Batman movies ever made"
   ]
  },
  {
   "cell_type": "code",
   "execution_count": 12,
   "metadata": {},
   "outputs": [
    {
     "name": "stdout",
     "output_type": "stream",
     "text": [
      "Total Batman Movies: 2\n"
     ]
    },
    {
     "data": {
      "text/html": [
       "<div>\n",
       "<style scoped>\n",
       "    .dataframe tbody tr th:only-of-type {\n",
       "        vertical-align: middle;\n",
       "    }\n",
       "\n",
       "    .dataframe tbody tr th {\n",
       "        vertical-align: top;\n",
       "    }\n",
       "\n",
       "    .dataframe thead th {\n",
       "        text-align: right;\n",
       "    }\n",
       "</style>\n",
       "<table border=\"1\" class=\"dataframe\">\n",
       "  <thead>\n",
       "    <tr style=\"text-align: right;\">\n",
       "      <th></th>\n",
       "      <th>title</th>\n",
       "      <th>year</th>\n",
       "    </tr>\n",
       "  </thead>\n",
       "  <tbody>\n",
       "    <tr>\n",
       "      <th>52734</th>\n",
       "      <td>Batman</td>\n",
       "      <td>1943</td>\n",
       "    </tr>\n",
       "    <tr>\n",
       "      <th>150621</th>\n",
       "      <td>Batman</td>\n",
       "      <td>1989</td>\n",
       "    </tr>\n",
       "  </tbody>\n",
       "</table>\n",
       "</div>"
      ],
      "text/plain": [
       "         title  year\n",
       "52734   Batman  1943\n",
       "150621  Batman  1989"
      ]
     },
     "execution_count": 12,
     "metadata": {},
     "output_type": "execute_result"
    }
   ],
   "source": [
    "batman_df = movies[movies.title == 'Batman']\n",
    "print('Total Batman Movies:', len(batman_df))\n",
    "batman_df"
   ]
  },
  {
   "cell_type": "markdown",
   "metadata": {},
   "source": [
    "### List all Batman movies ever made - the right approach"
   ]
  },
  {
   "cell_type": "code",
   "execution_count": 13,
   "metadata": {},
   "outputs": [
    {
     "name": "stdout",
     "output_type": "stream",
     "text": [
      "Total Batman Movies: 35\n"
     ]
    },
    {
     "data": {
      "text/html": [
       "<div>\n",
       "<style scoped>\n",
       "    .dataframe tbody tr th:only-of-type {\n",
       "        vertical-align: middle;\n",
       "    }\n",
       "\n",
       "    .dataframe tbody tr th {\n",
       "        vertical-align: top;\n",
       "    }\n",
       "\n",
       "    .dataframe thead th {\n",
       "        text-align: right;\n",
       "    }\n",
       "</style>\n",
       "<table border=\"1\" class=\"dataframe\">\n",
       "  <thead>\n",
       "    <tr style=\"text-align: right;\">\n",
       "      <th></th>\n",
       "      <th>title</th>\n",
       "      <th>year</th>\n",
       "    </tr>\n",
       "  </thead>\n",
       "  <tbody>\n",
       "    <tr>\n",
       "      <th>16813</th>\n",
       "      <td>Batman: Anarchy</td>\n",
       "      <td>2016</td>\n",
       "    </tr>\n",
       "    <tr>\n",
       "      <th>30236</th>\n",
       "      <td>Batman Forever</td>\n",
       "      <td>1995</td>\n",
       "    </tr>\n",
       "    <tr>\n",
       "      <th>31674</th>\n",
       "      <td>Batman Untold</td>\n",
       "      <td>2010</td>\n",
       "    </tr>\n",
       "    <tr>\n",
       "      <th>31711</th>\n",
       "      <td>Scooby-Doo &amp; Batman: the Brave and the Bold</td>\n",
       "      <td>2018</td>\n",
       "    </tr>\n",
       "    <tr>\n",
       "      <th>41881</th>\n",
       "      <td>Batman the Rise of Red Hood</td>\n",
       "      <td>2018</td>\n",
       "    </tr>\n",
       "    <tr>\n",
       "      <th>43484</th>\n",
       "      <td>Batman: Return of the Caped Crusaders</td>\n",
       "      <td>2016</td>\n",
       "    </tr>\n",
       "    <tr>\n",
       "      <th>46333</th>\n",
       "      <td>Batman &amp; Robin</td>\n",
       "      <td>1997</td>\n",
       "    </tr>\n",
       "    <tr>\n",
       "      <th>51811</th>\n",
       "      <td>Batman Revealed</td>\n",
       "      <td>2012</td>\n",
       "    </tr>\n",
       "    <tr>\n",
       "      <th>52734</th>\n",
       "      <td>Batman</td>\n",
       "      <td>1943</td>\n",
       "    </tr>\n",
       "    <tr>\n",
       "      <th>56029</th>\n",
       "      <td>Batman Beyond: Rising Knight</td>\n",
       "      <td>2014</td>\n",
       "    </tr>\n",
       "  </tbody>\n",
       "</table>\n",
       "</div>"
      ],
      "text/plain": [
       "                                             title  year\n",
       "16813                              Batman: Anarchy  2016\n",
       "30236                               Batman Forever  1995\n",
       "31674                                Batman Untold  2010\n",
       "31711  Scooby-Doo & Batman: the Brave and the Bold  2018\n",
       "41881                  Batman the Rise of Red Hood  2018\n",
       "43484        Batman: Return of the Caped Crusaders  2016\n",
       "46333                               Batman & Robin  1997\n",
       "51811                              Batman Revealed  2012\n",
       "52734                                       Batman  1943\n",
       "56029                 Batman Beyond: Rising Knight  2014"
      ]
     },
     "execution_count": 13,
     "metadata": {},
     "output_type": "execute_result"
    }
   ],
   "source": [
    "batman_df = movies[movies.title.str.contains('Batman', case=False)]\n",
    "print('Total Batman Movies:', len(batman_df))\n",
    "batman_df.head(10)"
   ]
  },
  {
   "cell_type": "markdown",
   "metadata": {},
   "source": [
    "### Display the top 15 Batman movies in the order they were released"
   ]
  },
  {
   "cell_type": "code",
   "execution_count": 14,
   "metadata": {},
   "outputs": [
    {
     "data": {
      "text/html": [
       "<div>\n",
       "<style scoped>\n",
       "    .dataframe tbody tr th:only-of-type {\n",
       "        vertical-align: middle;\n",
       "    }\n",
       "\n",
       "    .dataframe tbody tr th {\n",
       "        vertical-align: top;\n",
       "    }\n",
       "\n",
       "    .dataframe thead th {\n",
       "        text-align: right;\n",
       "    }\n",
       "</style>\n",
       "<table border=\"1\" class=\"dataframe\">\n",
       "  <thead>\n",
       "    <tr style=\"text-align: right;\">\n",
       "      <th></th>\n",
       "      <th>title</th>\n",
       "      <th>year</th>\n",
       "    </tr>\n",
       "  </thead>\n",
       "  <tbody>\n",
       "    <tr>\n",
       "      <th>52734</th>\n",
       "      <td>Batman</td>\n",
       "      <td>1943</td>\n",
       "    </tr>\n",
       "    <tr>\n",
       "      <th>100056</th>\n",
       "      <td>Batman and Robin</td>\n",
       "      <td>1949</td>\n",
       "    </tr>\n",
       "    <tr>\n",
       "      <th>161439</th>\n",
       "      <td>Batman Dracula</td>\n",
       "      <td>1964</td>\n",
       "    </tr>\n",
       "    <tr>\n",
       "      <th>84327</th>\n",
       "      <td>Alyas Batman at Robin</td>\n",
       "      <td>1965</td>\n",
       "    </tr>\n",
       "    <tr>\n",
       "      <th>68364</th>\n",
       "      <td>James Batman</td>\n",
       "      <td>1966</td>\n",
       "    </tr>\n",
       "    <tr>\n",
       "      <th>161527</th>\n",
       "      <td>Batman: The Movie</td>\n",
       "      <td>1966</td>\n",
       "    </tr>\n",
       "    <tr>\n",
       "      <th>56159</th>\n",
       "      <td>Batman Fights Dracula</td>\n",
       "      <td>1967</td>\n",
       "    </tr>\n",
       "    <tr>\n",
       "      <th>168504</th>\n",
       "      <td>Fight! Batman, Fight!</td>\n",
       "      <td>1973</td>\n",
       "    </tr>\n",
       "    <tr>\n",
       "      <th>150621</th>\n",
       "      <td>Batman</td>\n",
       "      <td>1989</td>\n",
       "    </tr>\n",
       "    <tr>\n",
       "      <th>156239</th>\n",
       "      <td>Alyas Batman en Robin</td>\n",
       "      <td>1991</td>\n",
       "    </tr>\n",
       "    <tr>\n",
       "      <th>156755</th>\n",
       "      <td>Batman Returns</td>\n",
       "      <td>1992</td>\n",
       "    </tr>\n",
       "    <tr>\n",
       "      <th>63366</th>\n",
       "      <td>Batman: Mask of the Phantasm</td>\n",
       "      <td>1993</td>\n",
       "    </tr>\n",
       "    <tr>\n",
       "      <th>30236</th>\n",
       "      <td>Batman Forever</td>\n",
       "      <td>1995</td>\n",
       "    </tr>\n",
       "    <tr>\n",
       "      <th>46333</th>\n",
       "      <td>Batman &amp; Robin</td>\n",
       "      <td>1997</td>\n",
       "    </tr>\n",
       "    <tr>\n",
       "      <th>208220</th>\n",
       "      <td>Batman Begins</td>\n",
       "      <td>2005</td>\n",
       "    </tr>\n",
       "  </tbody>\n",
       "</table>\n",
       "</div>"
      ],
      "text/plain": [
       "                               title  year\n",
       "52734                         Batman  1943\n",
       "100056              Batman and Robin  1949\n",
       "161439                Batman Dracula  1964\n",
       "84327          Alyas Batman at Robin  1965\n",
       "68364                   James Batman  1966\n",
       "161527             Batman: The Movie  1966\n",
       "56159          Batman Fights Dracula  1967\n",
       "168504         Fight! Batman, Fight!  1973\n",
       "150621                        Batman  1989\n",
       "156239         Alyas Batman en Robin  1991\n",
       "156755                Batman Returns  1992\n",
       "63366   Batman: Mask of the Phantasm  1993\n",
       "30236                 Batman Forever  1995\n",
       "46333                 Batman & Robin  1997\n",
       "208220                 Batman Begins  2005"
      ]
     },
     "execution_count": 14,
     "metadata": {},
     "output_type": "execute_result"
    }
   ],
   "source": [
    "batman_df.sort_values(by=['year'], ascending=True).iloc[:15]"
   ]
  },
  {
   "cell_type": "markdown",
   "metadata": {},
   "source": [
    "### Section I - Q1 : List all the 'Harry Potter' movies from the most recent to the earliest"
   ]
  },
  {
   "cell_type": "code",
   "execution_count": 24,
   "metadata": {},
   "outputs": [
    {
     "name": "stdout",
     "output_type": "stream",
     "text": [
      "                                               title  year\n",
      "143147  Harry Potter and the Deathly Hallows: Part 2  2011\n",
      "152831  Harry Potter and the Deathly Hallows: Part 1  2010\n",
      "109213        Harry Potter and the Half-Blood Prince  2009\n",
      "50581      Harry Potter and the Order of the Phoenix  2007\n",
      "187926           Harry Potter and the Goblet of Fire  2005\n",
      "61957       Harry Potter and the Prisoner of Azkaban  2004\n",
      "82791        Harry Potter and the Chamber of Secrets  2002\n",
      "223087         Harry Potter and the Sorcerer's Stone  2001\n"
     ]
    }
   ],
   "source": [
    "hp_df = movies[movies.title.str.contains('Harry Potter', case=False)]\n",
    "print(hp_df.sort_values(by='year', ascending=False))"
   ]
  },
  {
   "cell_type": "markdown",
   "metadata": {},
   "source": [
    "### How many movies were made in the year 2017?"
   ]
  },
  {
   "cell_type": "code",
   "execution_count": 12,
   "metadata": {},
   "outputs": [
    {
     "data": {
      "text/plain": [
       "11474"
      ]
     },
     "execution_count": 12,
     "metadata": {},
     "output_type": "execute_result"
    }
   ],
   "source": [
    "len(movies[movies.year == 2017])"
   ]
  },
  {
   "cell_type": "markdown",
   "metadata": {},
   "source": [
    "### Section I - Q2 : How many movies were made in the year 2015?"
   ]
  },
  {
   "cell_type": "code",
   "execution_count": 25,
   "metadata": {},
   "outputs": [
    {
     "data": {
      "text/plain": [
       "8702"
      ]
     },
     "execution_count": 25,
     "metadata": {},
     "output_type": "execute_result"
    }
   ],
   "source": [
    "len(movies[movies.year == 2015])"
   ]
  },
  {
   "cell_type": "markdown",
   "metadata": {},
   "source": [
    "### Section I - Q3 : How many movies were made from 2000 till 2018?\n",
    "- You can chain multiple conditions using OR (`|`) as well as AND (`&`) depending on the condition"
   ]
  },
  {
   "cell_type": "code",
   "execution_count": 27,
   "metadata": {},
   "outputs": [
    {
     "data": {
      "text/plain": [
       "114070"
      ]
     },
     "execution_count": 27,
     "metadata": {},
     "output_type": "execute_result"
    }
   ],
   "source": [
    "len(movies[(movies.year >= 2000) & (movies.year <= 2018)])"
   ]
  },
  {
   "cell_type": "markdown",
   "metadata": {},
   "source": [
    "### Section I - Q4: How many movies are titled \"Hamlet\"?"
   ]
  },
  {
   "cell_type": "code",
   "execution_count": 35,
   "metadata": {},
   "outputs": [
    {
     "name": "stdout",
     "output_type": "stream",
     "text": [
      "         title  year\n",
      "1931    Hamlet  2009\n",
      "8214    Hamlet  1976\n",
      "46344   Hamlet  1921\n",
      "55639   Hamlet  2000\n",
      "73869   Hamlet  1948\n",
      "98326   Hamlet  1990\n",
      "118535  Hamlet  1913\n",
      "124506  Hamlet  1911\n",
      "140203  Hamlet  1954\n",
      "155004  Hamlet  1964\n",
      "178290  Hamlet  2014\n",
      "180979  Hamlet  1987\n",
      "181090  Hamlet  1910\n",
      "186137  Hamlet  2015\n",
      "191940  Hamlet  2016\n",
      "218339  Hamlet  1973\n",
      "222156  Hamlet  1969\n",
      "227953  Hamlet  2011\n",
      "241149  Hamlet  1996\n",
      "244747  Hamlet  2017\n"
     ]
    },
    {
     "data": {
      "text/plain": [
       "20"
      ]
     },
     "execution_count": 35,
     "metadata": {},
     "output_type": "execute_result"
    }
   ],
   "source": [
    "hamlet = movies[movies.title == 'Hamlet']\n",
    "\n",
    "len(hamlet)"
   ]
  },
  {
   "cell_type": "markdown",
   "metadata": {},
   "source": [
    "### Section I - Q5: List all movies titled \"Hamlet\" \n",
    "- The movies should only have been released on or after the year 2000\n",
    "- Display the movies based on the year they were released (earliest to most recent)"
   ]
  },
  {
   "cell_type": "code",
   "execution_count": 37,
   "metadata": {},
   "outputs": [
    {
     "name": "stdout",
     "output_type": "stream",
     "text": [
      "         title  year\n",
      "181090  Hamlet  1910\n",
      "124506  Hamlet  1911\n",
      "118535  Hamlet  1913\n",
      "46344   Hamlet  1921\n",
      "73869   Hamlet  1948\n",
      "140203  Hamlet  1954\n",
      "155004  Hamlet  1964\n",
      "222156  Hamlet  1969\n",
      "218339  Hamlet  1973\n",
      "8214    Hamlet  1976\n",
      "180979  Hamlet  1987\n",
      "98326   Hamlet  1990\n",
      "241149  Hamlet  1996\n",
      "55639   Hamlet  2000\n",
      "1931    Hamlet  2009\n",
      "227953  Hamlet  2011\n",
      "178290  Hamlet  2014\n",
      "186137  Hamlet  2015\n",
      "191940  Hamlet  2016\n",
      "244747  Hamlet  2017\n"
     ]
    }
   ],
   "source": [
    "print(hamlet.sort_values(by='year', ascending=True))"
   ]
  },
  {
   "cell_type": "markdown",
   "metadata": {},
   "source": [
    "### Section I - Q6: How many roles in the movie \"Inception\" are of the supporting cast (extra credits)\n",
    "- supporting cast are NOT ranked by an \"n\" value (NaN)\n",
    "- check for how to filter based on nulls"
   ]
  },
  {
   "cell_type": "code",
   "execution_count": 60,
   "metadata": {},
   "outputs": [
    {
     "name": "stdout",
     "output_type": "stream",
     "text": [
      "             title  year                     name     type  \\\n",
      "98153    Inception  2010     Michael (III) August    actor   \n",
      "197877   Inception  2010                 Ken Bhan    actor   \n",
      "374661   Inception  2010            John Ceallach    actor   \n",
      "497161   Inception  2010             Garvin Cross    actor   \n",
      "684098   Inception  2010            Seve Esposito    actor   \n",
      "690634   Inception  2010      Marcus (II) Everett    actor   \n",
      "707642   Inception  2010  Zachary Christopher Fay    actor   \n",
      "836295   Inception  2010        Daniel Girondeaud    actor   \n",
      "1006636  Inception  2010          Andrew Hoagland    actor   \n",
      "1095095  Inception  2010          Charles Jarrell    actor   \n",
      "1108755  Inception  2010            Seong-hwan Jo    actor   \n",
      "1120184  Inception  2010          Alonzo F. Jones    actor   \n",
      "1189066  Inception  2010               Mobin Khan    actor   \n",
      "1248176  Inception  2010            Shunsaku Kud?    actor   \n",
      "1296268  Inception  2010         John (IX) Lawson    actor   \n",
      "1312335  Inception  2010    Jean-Christophe Leger    actor   \n",
      "1665939  Inception  2010     Fran?ois-Marie Nivon    actor   \n",
      "1836655  Inception  2010             Scott Pretty    actor   \n",
      "1921209  Inception  2010      Benjamin (II) Riley    actor   \n",
      "1999736  Inception  2010            Norman Saleet    actor   \n",
      "2127670  Inception  2010        Colin (XXV) Smith    actor   \n",
      "2238386  Inception  2010             Affan Tareen    actor   \n",
      "2796449  Inception  2010           Youlanda Davis  actress   \n",
      "2852164  Inception  2010           Julie Eagleton  actress   \n",
      "2950644  Inception  2010          Natalie Goldwin  actress   \n",
      "3054447  Inception  2010       Marguerite Insolia  actress   \n",
      "3149397  Inception  2010          Leticia LaBelle  actress   \n",
      "\n",
      "                         character   n  \n",
      "98153                LAX Passenger NaN  \n",
      "197877            Mombasan Gambler NaN  \n",
      "374661               LAX Passenger NaN  \n",
      "497161              Snow Commander NaN  \n",
      "684098             Italian Gambler NaN  \n",
      "690634                Stock Broker NaN  \n",
      "707642                       Extra NaN  \n",
      "836295              Bridge Sub Con NaN  \n",
      "1006636                 Pedestrian NaN  \n",
      "1095095                Hotel Guest NaN  \n",
      "1108755      Japanese Landing Crew NaN  \n",
      "1120184      Mombasan Casino Staff NaN  \n",
      "1189066     Mombasa Casino Cashier NaN  \n",
      "1248176  Saito's Bodyguard Officer NaN  \n",
      "1296268              Street Person NaN  \n",
      "1312335             French Student NaN  \n",
      "1665939                A Passer-By NaN  \n",
      "1836655                 Pedestrian NaN  \n",
      "1921209             Bridge Sub Con NaN  \n",
      "1999736             Airport Patron NaN  \n",
      "2127670             Airport Patron NaN  \n",
      "2238386                    Denison NaN  \n",
      "2796449           Mombasan Cashier NaN  \n",
      "2852164                Stockbroker NaN  \n",
      "2950644              LAX Passenger NaN  \n",
      "3054447                   Reporter NaN  \n",
      "3149397             Airport Patron NaN  \n",
      "27\n"
     ]
    }
   ],
   "source": [
    "inception_s = cast[(cast.title == 'Inception') & (pd.isnull(cast.n) == True)]\n",
    "print(inception_s)\n",
    "print(len(inception_s))\n"
   ]
  },
  {
   "cell_type": "markdown",
   "metadata": {},
   "source": [
    "### Section I - Q7: How many roles in the movie \"Inception\" are of the main cast\n",
    "- main cast always have an 'n' value"
   ]
  },
  {
   "cell_type": "code",
   "execution_count": 61,
   "metadata": {},
   "outputs": [
    {
     "name": "stdout",
     "output_type": "stream",
     "text": [
      "             title  year                  name     type  \\\n",
      "149008   Inception  2010          Peter Basham    actor   \n",
      "183937   Inception  2010          Tom Berenger    actor   \n",
      "260128   Inception  2010        Virgile Bramly    actor   \n",
      "326745   Inception  2010         Michael Caine    actor   \n",
      "333415   Inception  2010          Earl Cameron    actor   \n",
      "433867   Inception  2010         Nicolas Clerc    actor   \n",
      "444385   Inception  2010        Adam (IV) Cole    actor   \n",
      "517227   Inception  2010    Jean-Michel Dagory    actor   \n",
      "590576   Inception  2010     Leonardo DiCaprio    actor   \n",
      "709436   Inception  2010             Russ Fega    actor   \n",
      "737322   Inception  2010      Mark Fleischmann    actor   \n",
      "807795   Inception  2010        Michael Gaston    actor   \n",
      "812135   Inception  2010       Johnathan Geare    actor   \n",
      "832083   Inception  2010         Carl Gilliard    actor   \n",
      "833376   Inception  2010           Jack Gilroy    actor   \n",
      "859993   Inception  2010  Joseph Gordon-Levitt    actor   \n",
      "910757   Inception  2010            Lukas Haas    actor   \n",
      "940923   Inception  2010             Tom Hardy    actor   \n",
      "967176   Inception  2010          Ryan Hayward    actor   \n",
      "1170785  Inception  2010          Tim Kelleher    actor   \n",
      "1309851  Inception  2010            Tai-Li Lee    actor   \n",
      "1455534  Inception  2010       Tohoru Masamune    actor   \n",
      "1615709  Inception  2010        Cillian Murphy    actor   \n",
      "1618527  Inception  2010     Jack (III) Murray    actor   \n",
      "1668790  Inception  2010          Magnus Nolan    actor   \n",
      "1701902  Inception  2010          Yuji Okumoto    actor   \n",
      "1812091  Inception  2010        Andrew Pleavin    actor   \n",
      "1826027  Inception  2010    Pete Postlethwaite    actor   \n",
      "1861317  Inception  2010          Marc Raducci    actor   \n",
      "1876301  Inception  2010            Dileep Rao    actor   \n",
      "2049179  Inception  2010           Felix Scott    actor   \n",
      "2250605  Inception  2010         Jason Tendell    actor   \n",
      "2267383  Inception  2010        Kraig Thornber    actor   \n",
      "2406531  Inception  2010          Ken Watanabe    actor   \n",
      "2614557  Inception  2010      Natasha Beaumont  actress   \n",
      "2765969  Inception  2010      Marion Cotillard  actress   \n",
      "2776554  Inception  2010       Helena Cullinan  actress   \n",
      "2807441  Inception  2010      Coralie Dedykere  actress   \n",
      "2932657  Inception  2010          Claire Geare  actress   \n",
      "2932664  Inception  2010          Taylor Geare  actress   \n",
      "3151982  Inception  2010         Silvie Laguna  actress   \n",
      "3158892  Inception  2010          Shelley Lang  actress   \n",
      "3203564  Inception  2010     Alex (II) Lombard  actress   \n",
      "3225843  Inception  2010         Jill Maddrell  actress   \n",
      "3343512  Inception  2010      Angela Nathenson  actress   \n",
      "3359825  Inception  2010         Miranda Nolan  actress   \n",
      "3387147  Inception  2010            Ellen Page  actress   \n",
      "3444628  Inception  2010        Nicole Pulliam  actress   \n",
      "3473041  Inception  2010    Lisa (II) Reynolds  actress   \n",
      "3480170  Inception  2010         Talulah Riley  actress   \n",
      "3731263  Inception  2010        Shannon Welles  actress   \n",
      "\n",
      "                       character     n  \n",
      "149008     Fischer's Jet Captain  44.0  \n",
      "183937                  Browning   8.0  \n",
      "260128            Bridge Sub Con  29.0  \n",
      "326745                     Miles  11.0  \n",
      "333415          Elderly Bald Man  20.0  \n",
      "433867            Bridge Sub Con  26.0  \n",
      "444385               Bar Sub Con  34.0  \n",
      "517227            Bridge Sub Con  30.0  \n",
      "590576                      Cobb   1.0  \n",
      "709436                Cab Driver  23.0  \n",
      "737322           Penrose Sub Con  32.0  \n",
      "807795       Immigration Officer  45.0  \n",
      "812135           James (3 years)  17.0  \n",
      "832083             Lobby Sub Con  40.0  \n",
      "833376                  Old Cobb  50.0  \n",
      "859993                    Arthur   2.0  \n",
      "910757                      Nash  12.0  \n",
      "940923                     Eames   4.0  \n",
      "967176                    Lawyer  21.0  \n",
      "1170785                 Thin Man  24.0  \n",
      "1309851                  Tadashi  13.0  \n",
      "1455534  Japanese Security Guard  18.0  \n",
      "1615709           Robert Fischer   7.0  \n",
      "1618527              Bar Sub Con  35.0  \n",
      "1668790        James (20 months)  15.0  \n",
      "1701902        Saito's Attendant  19.0  \n",
      "1812091              Businessman  47.0  \n",
      "1826027          Maurice Fischer  10.0  \n",
      "1861317            Lobby Sub Con  39.0  \n",
      "1876301                    Yusuf   6.0  \n",
      "2049179              Businessman  46.0  \n",
      "2250605         Fischer's Driver  49.0  \n",
      "2267383              Bar Sub Con  36.0  \n",
      "2406531                    Saito   5.0  \n",
      "2614557              Bar Sub Con  38.0  \n",
      "2765969                      Mal   9.0  \n",
      "2776554          Penrose Sub Con  31.0  \n",
      "2807441           Bridge Sub Con  27.0  \n",
      "2932657       Phillipa (3 years)  14.0  \n",
      "2932664       Phillipa (5 years)  16.0  \n",
      "3151982           Bridge Sub Con  28.0  \n",
      "3158892          Penrose Sub Con  33.0  \n",
      "3203564            Lobby Sub Con  42.0  \n",
      "3225843            Lobby Sub Con  41.0  \n",
      "3343512              Bar Sub Con  37.0  \n",
      "3359825         Flight Attendant  22.0  \n",
      "3387147                  Ariadne   3.0  \n",
      "3444628            Lobby Sub Con  43.0  \n",
      "3473041            Private Nurse  48.0  \n",
      "3480170                   Blonde  25.0  \n",
      "3731263                  Old Mal  51.0  \n",
      "51\n"
     ]
    }
   ],
   "source": [
    "inception_m = cast[(cast.title == 'Inception') & (pd.isnull(cast.n) == False)]\n",
    "print(inception_m)\n",
    "print(len(inception_m))"
   ]
  },
  {
   "cell_type": "markdown",
   "metadata": {},
   "source": [
    "### Section I - Q8: Show the top ten cast (actors\\actresses) in the movie \"Inception\" \n",
    "- support cast always have an 'n' value\n",
    "- remember to sort!"
   ]
  },
  {
   "cell_type": "code",
   "execution_count": 63,
   "metadata": {},
   "outputs": [
    {
     "data": {
      "text/html": [
       "<div>\n",
       "<style scoped>\n",
       "    .dataframe tbody tr th:only-of-type {\n",
       "        vertical-align: middle;\n",
       "    }\n",
       "\n",
       "    .dataframe tbody tr th {\n",
       "        vertical-align: top;\n",
       "    }\n",
       "\n",
       "    .dataframe thead th {\n",
       "        text-align: right;\n",
       "    }\n",
       "</style>\n",
       "<table border=\"1\" class=\"dataframe\">\n",
       "  <thead>\n",
       "    <tr style=\"text-align: right;\">\n",
       "      <th></th>\n",
       "      <th>title</th>\n",
       "      <th>year</th>\n",
       "      <th>name</th>\n",
       "      <th>type</th>\n",
       "      <th>character</th>\n",
       "      <th>n</th>\n",
       "    </tr>\n",
       "  </thead>\n",
       "  <tbody>\n",
       "    <tr>\n",
       "      <th>590576</th>\n",
       "      <td>Inception</td>\n",
       "      <td>2010</td>\n",
       "      <td>Leonardo DiCaprio</td>\n",
       "      <td>actor</td>\n",
       "      <td>Cobb</td>\n",
       "      <td>1.0</td>\n",
       "    </tr>\n",
       "    <tr>\n",
       "      <th>859993</th>\n",
       "      <td>Inception</td>\n",
       "      <td>2010</td>\n",
       "      <td>Joseph Gordon-Levitt</td>\n",
       "      <td>actor</td>\n",
       "      <td>Arthur</td>\n",
       "      <td>2.0</td>\n",
       "    </tr>\n",
       "    <tr>\n",
       "      <th>3387147</th>\n",
       "      <td>Inception</td>\n",
       "      <td>2010</td>\n",
       "      <td>Ellen Page</td>\n",
       "      <td>actress</td>\n",
       "      <td>Ariadne</td>\n",
       "      <td>3.0</td>\n",
       "    </tr>\n",
       "    <tr>\n",
       "      <th>940923</th>\n",
       "      <td>Inception</td>\n",
       "      <td>2010</td>\n",
       "      <td>Tom Hardy</td>\n",
       "      <td>actor</td>\n",
       "      <td>Eames</td>\n",
       "      <td>4.0</td>\n",
       "    </tr>\n",
       "    <tr>\n",
       "      <th>2406531</th>\n",
       "      <td>Inception</td>\n",
       "      <td>2010</td>\n",
       "      <td>Ken Watanabe</td>\n",
       "      <td>actor</td>\n",
       "      <td>Saito</td>\n",
       "      <td>5.0</td>\n",
       "    </tr>\n",
       "    <tr>\n",
       "      <th>1876301</th>\n",
       "      <td>Inception</td>\n",
       "      <td>2010</td>\n",
       "      <td>Dileep Rao</td>\n",
       "      <td>actor</td>\n",
       "      <td>Yusuf</td>\n",
       "      <td>6.0</td>\n",
       "    </tr>\n",
       "    <tr>\n",
       "      <th>1615709</th>\n",
       "      <td>Inception</td>\n",
       "      <td>2010</td>\n",
       "      <td>Cillian Murphy</td>\n",
       "      <td>actor</td>\n",
       "      <td>Robert Fischer</td>\n",
       "      <td>7.0</td>\n",
       "    </tr>\n",
       "    <tr>\n",
       "      <th>183937</th>\n",
       "      <td>Inception</td>\n",
       "      <td>2010</td>\n",
       "      <td>Tom Berenger</td>\n",
       "      <td>actor</td>\n",
       "      <td>Browning</td>\n",
       "      <td>8.0</td>\n",
       "    </tr>\n",
       "    <tr>\n",
       "      <th>2765969</th>\n",
       "      <td>Inception</td>\n",
       "      <td>2010</td>\n",
       "      <td>Marion Cotillard</td>\n",
       "      <td>actress</td>\n",
       "      <td>Mal</td>\n",
       "      <td>9.0</td>\n",
       "    </tr>\n",
       "    <tr>\n",
       "      <th>1826027</th>\n",
       "      <td>Inception</td>\n",
       "      <td>2010</td>\n",
       "      <td>Pete Postlethwaite</td>\n",
       "      <td>actor</td>\n",
       "      <td>Maurice Fischer</td>\n",
       "      <td>10.0</td>\n",
       "    </tr>\n",
       "  </tbody>\n",
       "</table>\n",
       "</div>"
      ],
      "text/plain": [
       "             title  year                  name     type        character     n\n",
       "590576   Inception  2010     Leonardo DiCaprio    actor             Cobb   1.0\n",
       "859993   Inception  2010  Joseph Gordon-Levitt    actor           Arthur   2.0\n",
       "3387147  Inception  2010            Ellen Page  actress          Ariadne   3.0\n",
       "940923   Inception  2010             Tom Hardy    actor            Eames   4.0\n",
       "2406531  Inception  2010          Ken Watanabe    actor            Saito   5.0\n",
       "1876301  Inception  2010            Dileep Rao    actor            Yusuf   6.0\n",
       "1615709  Inception  2010        Cillian Murphy    actor   Robert Fischer   7.0\n",
       "183937   Inception  2010          Tom Berenger    actor         Browning   8.0\n",
       "2765969  Inception  2010      Marion Cotillard  actress              Mal   9.0\n",
       "1826027  Inception  2010    Pete Postlethwaite    actor  Maurice Fischer  10.0"
      ]
     },
     "execution_count": 63,
     "metadata": {},
     "output_type": "execute_result"
    }
   ],
   "source": [
    "top = inception_m.sort_values(by='n', ascending=True)\n",
    "top.head(10)"
   ]
  },
  {
   "cell_type": "markdown",
   "metadata": {},
   "source": [
    "### Section I - Q9:\n",
    "\n",
    "(A) List all movies where there was a character 'Albus Dumbledore' \n",
    "\n",
    "(B) Now modify the above to show only the actors who played the character 'Albus Dumbledore'\n",
    "- For Part (B) remember the same actor might play the same role in multiple movies"
   ]
  },
  {
   "cell_type": "code",
   "execution_count": 64,
   "metadata": {},
   "outputs": [
    {
     "name": "stdout",
     "output_type": "stream",
     "text": [
      "                                             title  year                 name  \\\n",
      "704984                                  Epic Movie  2007         Dane Farwell   \n",
      "792421         Harry Potter and the Goblet of Fire  2005       Michael Gambon   \n",
      "792423   Harry Potter and the Order of the Phoenix  2007       Michael Gambon   \n",
      "792424    Harry Potter and the Prisoner of Azkaban  2004       Michael Gambon   \n",
      "947789     Harry Potter and the Chamber of Secrets  2002       Richard Harris   \n",
      "947790       Harry Potter and the Sorcerer's Stone  2001       Richard Harris   \n",
      "1685537                      Ultimate Hero Project  2013  George (X) O'Connor   \n",
      "2248085                                     Potter  2015    Timothy Tedmanson   \n",
      "\n",
      "          type         character     n  \n",
      "704984   actor  Albus Dumbledore  17.0  \n",
      "792421   actor  Albus Dumbledore  37.0  \n",
      "792423   actor  Albus Dumbledore  36.0  \n",
      "792424   actor  Albus Dumbledore  27.0  \n",
      "947789   actor  Albus Dumbledore  32.0  \n",
      "947790   actor  Albus Dumbledore   1.0  \n",
      "1685537  actor  Albus Dumbledore   NaN  \n",
      "2248085  actor  Albus Dumbledore   NaN  \n"
     ]
    }
   ],
   "source": [
    "dd = cast[(cast.character == 'Albus Dumbledore')]\n",
    "print(dd)"
   ]
  },
  {
   "cell_type": "code",
   "execution_count": 66,
   "metadata": {},
   "outputs": [
    {
     "name": "stdout",
     "output_type": "stream",
     "text": [
      "['Dane Farwell' 'Michael Gambon' 'Richard Harris' \"George (X) O'Connor\"\n",
      " 'Timothy Tedmanson']\n"
     ]
    }
   ],
   "source": [
    "dd = cast[(cast.character == 'Albus Dumbledore')]\n",
    "print(dd.name.unique())"
   ]
  },
  {
   "cell_type": "markdown",
   "metadata": {},
   "source": [
    "### Section I - Q10:\n",
    "\n",
    "(A) How many roles has 'Keanu Reeves' played throughout his career?\n",
    "\n",
    "(B) List the leading roles that 'Keanu Reeves' played on or after 1999 in order by year."
   ]
  },
  {
   "cell_type": "code",
   "execution_count": 68,
   "metadata": {},
   "outputs": [
    {
     "name": "stdout",
     "output_type": "stream",
     "text": [
      "62\n"
     ]
    }
   ],
   "source": [
    "kr = cast[(cast.name == 'Keanu Reeves')]\n",
    "#print(kr)\n",
    "print(len(kr))"
   ]
  },
  {
   "cell_type": "code",
   "execution_count": 71,
   "metadata": {},
   "outputs": [
    {
     "name": "stdout",
     "output_type": "stream",
     "text": [
      "                                 title  year          name   type  \\\n",
      "1892390                     The Matrix  1999  Keanu Reeves  actor   \n",
      "1892397               The Replacements  2000  Keanu Reeves  actor   \n",
      "1892358                      Hard Ball  2001  Keanu Reeves  actor   \n",
      "1892383                 Sweet November  2001  Keanu Reeves  actor   \n",
      "1892348                    Constantine  2005  Keanu Reeves  actor   \n",
      "1892388                 The Lake House  2006  Keanu Reeves  actor   \n",
      "1892382                   Street Kings  2008  Keanu Reeves  actor   \n",
      "1892385  The Day the Earth Stood Still  2008  Keanu Reeves  actor   \n",
      "1892359                  Henry's Crime  2010  Keanu Reeves  actor   \n",
      "1892342                       47 Ronin  2013  Keanu Reeves  actor   \n",
      "1892361                      John Wick  2014  Keanu Reeves  actor   \n",
      "1892366                    Knock Knock  2015  Keanu Reeves  actor   \n",
      "1892399                The Whole Truth  2016  Keanu Reeves  actor   \n",
      "1892362           John Wick: Chapter 2  2017  Keanu Reeves  actor   \n",
      "1892378                        Siberia  2018  Keanu Reeves  actor   \n",
      "\n",
      "                    character    n  \n",
      "1892390                   Neo  1.0  \n",
      "1892397           Shane Falco  1.0  \n",
      "1892358         Conor O'Neill  1.0  \n",
      "1892383           Nelson Moss  1.0  \n",
      "1892348      John Constantine  1.0  \n",
      "1892388            Alex Wyler  1.0  \n",
      "1892382  Detective Tom Ludlow  1.0  \n",
      "1892385                Klaatu  1.0  \n",
      "1892359           Henry Torne  1.0  \n",
      "1892342                   Kai  1.0  \n",
      "1892361             John Wick  1.0  \n",
      "1892366                  Evan  1.0  \n",
      "1892399                Ramsey  1.0  \n",
      "1892362             John Wick  1.0  \n",
      "1892378            Lucas Hill  1.0  \n"
     ]
    }
   ],
   "source": [
    "kr_lead = kr[(kr.n == 1) & (kr.year >= 1999)]\n",
    "print(kr_lead.sort_values(by='year', ascending=True))\n"
   ]
  },
  {
   "cell_type": "markdown",
   "metadata": {},
   "source": [
    "### Section I - Q11: \n",
    "\n",
    "(A) List the total number of actor and actress roles available from 1950 - 1960\n",
    "\n",
    "(B) List the total number of actor and actress roles available from 2007 - 2017"
   ]
  },
  {
   "cell_type": "code",
   "execution_count": 76,
   "metadata": {},
   "outputs": [
    {
     "name": "stdout",
     "output_type": "stream",
     "text": [
      "234635\n"
     ]
    }
   ],
   "source": [
    "actor_or_actress_from_50_to_60 = cast[((cast.type == 'actor') | (cast.type == 'actress')) & ((cast.year >= 1950) & (cast.year <= 1960))]\n",
    "#print(actor_or_actress_from_50_to_60.sort_values(by='year', ascending=True))\n",
    "print(len(actor_or_actress_from_50_to_60))"
   ]
  },
  {
   "cell_type": "code",
   "execution_count": 78,
   "metadata": {},
   "outputs": [
    {
     "name": "stdout",
     "output_type": "stream",
     "text": [
      "1452413\n"
     ]
    }
   ],
   "source": [
    "actor_or_actress_from_07_to_17 = cast[((cast.type == 'actor') | (cast.type == 'actress')) & ((cast.year >= 2007) & (cast.year <= 2017))]\n",
    "#print(actor_or_actress_from_07_to_17.sort_values(by='year', ascending=True))\n",
    "print(len(actor_or_actress_from_07_to_17))\n",
    "\n",
    "\n",
    "\n"
   ]
  },
  {
   "cell_type": "markdown",
   "metadata": {},
   "source": [
    "### Section I - Q12: \n",
    "\n",
    "(A) List the total number of leading roles available from 2000 to present\n",
    "\n",
    "(B) List the total number of non-leading roles available from 2000 - present (exclude support cast)\n",
    "\n",
    "(C) List the total number of support\\extra-credit roles available from 2000 - present"
   ]
  },
  {
   "cell_type": "code",
   "execution_count": 79,
   "metadata": {},
   "outputs": [
    {
     "name": "stdout",
     "output_type": "stream",
     "text": [
      "60568\n"
     ]
    }
   ],
   "source": [
    "leading_roles_from_2000 = cast[(cast.n == 1) & (cast.year >= 2000)]\n",
    "print(len(leading_roles_from_2000))"
   ]
  },
  {
   "cell_type": "code",
   "execution_count": 82,
   "metadata": {},
   "outputs": [
    {
     "name": "stdout",
     "output_type": "stream",
     "text": [
      "1889194\n",
      "1889194\n"
     ]
    }
   ],
   "source": [
    "count_non_leading_roles_from_2000 = len(cast[cast.year >= 2000]) - len(leading_roles_from_2000)\n",
    "print(count_non_leading_roles_from_2000)\n",
    "non_leading_roles_from_2000 = cast[(cast.n != 1) & (cast.year >= 2000)]\n",
    "print(len(non_leading_roles_from_2000))"
   ]
  },
  {
   "cell_type": "code",
   "execution_count": 85,
   "metadata": {},
   "outputs": [
    {
     "name": "stdout",
     "output_type": "stream",
     "text": [
      "887484\n"
     ]
    },
    {
     "data": {
      "text/html": [
       "<div>\n",
       "<style scoped>\n",
       "    .dataframe tbody tr th:only-of-type {\n",
       "        vertical-align: middle;\n",
       "    }\n",
       "\n",
       "    .dataframe tbody tr th {\n",
       "        vertical-align: top;\n",
       "    }\n",
       "\n",
       "    .dataframe thead th {\n",
       "        text-align: right;\n",
       "    }\n",
       "</style>\n",
       "<table border=\"1\" class=\"dataframe\">\n",
       "  <thead>\n",
       "    <tr style=\"text-align: right;\">\n",
       "      <th></th>\n",
       "      <th>title</th>\n",
       "      <th>year</th>\n",
       "      <th>name</th>\n",
       "      <th>type</th>\n",
       "      <th>character</th>\n",
       "      <th>n</th>\n",
       "    </tr>\n",
       "  </thead>\n",
       "  <tbody>\n",
       "    <tr>\n",
       "      <th>3</th>\n",
       "      <td>Secret in Their Eyes</td>\n",
       "      <td>2015</td>\n",
       "      <td>$hutter</td>\n",
       "      <td>actor</td>\n",
       "      <td>2002 Dodger Fan</td>\n",
       "      <td>NaN</td>\n",
       "    </tr>\n",
       "    <tr>\n",
       "      <th>4</th>\n",
       "      <td>Steve Jobs</td>\n",
       "      <td>2015</td>\n",
       "      <td>$hutter</td>\n",
       "      <td>actor</td>\n",
       "      <td>1988 Opera House Patron</td>\n",
       "      <td>NaN</td>\n",
       "    </tr>\n",
       "    <tr>\n",
       "      <th>5</th>\n",
       "      <td>Straight Outta Compton</td>\n",
       "      <td>2015</td>\n",
       "      <td>$hutter</td>\n",
       "      <td>actor</td>\n",
       "      <td>Club Patron</td>\n",
       "      <td>NaN</td>\n",
       "    </tr>\n",
       "    <tr>\n",
       "      <th>6</th>\n",
       "      <td>Straight Outta Compton</td>\n",
       "      <td>2015</td>\n",
       "      <td>$hutter</td>\n",
       "      <td>actor</td>\n",
       "      <td>Dopeman</td>\n",
       "      <td>NaN</td>\n",
       "    </tr>\n",
       "    <tr>\n",
       "      <th>7</th>\n",
       "      <td>For Thy Love 2</td>\n",
       "      <td>2009</td>\n",
       "      <td>Bee Moe $lim</td>\n",
       "      <td>actor</td>\n",
       "      <td>Thug 1</td>\n",
       "      <td>NaN</td>\n",
       "    </tr>\n",
       "  </tbody>\n",
       "</table>\n",
       "</div>"
      ],
      "text/plain": [
       "                    title  year          name   type                character  \\\n",
       "3    Secret in Their Eyes  2015       $hutter  actor          2002 Dodger Fan   \n",
       "4              Steve Jobs  2015       $hutter  actor  1988 Opera House Patron   \n",
       "5  Straight Outta Compton  2015       $hutter  actor              Club Patron   \n",
       "6  Straight Outta Compton  2015       $hutter  actor                  Dopeman   \n",
       "7          For Thy Love 2  2009  Bee Moe $lim  actor                   Thug 1   \n",
       "\n",
       "    n  \n",
       "3 NaN  \n",
       "4 NaN  \n",
       "5 NaN  \n",
       "6 NaN  \n",
       "7 NaN  "
      ]
     },
     "execution_count": 85,
     "metadata": {},
     "output_type": "execute_result"
    }
   ],
   "source": [
    "support_cast = non_leading_roles_from_2000[pd.isnull(non_leading_roles_from_2000.n)]\n",
    "print(len(support_cast))\n",
    "support_cast.head()"
   ]
  },
  {
   "cell_type": "markdown",
   "metadata": {},
   "source": [
    "# Section II - Aggregations, Transformations and Visualizations"
   ]
  },
  {
   "cell_type": "markdown",
   "metadata": {},
   "source": [
    "## What are the top ten most common movie names of all time?\n"
   ]
  },
  {
   "cell_type": "code",
   "execution_count": 15,
   "metadata": {},
   "outputs": [
    {
     "data": {
      "text/plain": [
       "Hamlet                  20\n",
       "Carmen                  17\n",
       "Macbeth                 16\n",
       "The Outsider            12\n",
       "Maya                    12\n",
       "Temptation              12\n",
       "Honeymoon               11\n",
       "The Three Musketeers    11\n",
       "Freedom                 11\n",
       "Othello                 11\n",
       "Name: title, dtype: int64"
      ]
     },
     "execution_count": 15,
     "metadata": {},
     "output_type": "execute_result"
    }
   ],
   "source": [
    "top_ten = movies.title.value_counts()[:10]\n",
    "top_ten"
   ]
  },
  {
   "cell_type": "markdown",
   "metadata": {},
   "source": [
    "### Plot the top ten common movie names of all time"
   ]
  },
  {
   "cell_type": "code",
   "execution_count": 16,
   "metadata": {},
   "outputs": [
    {
     "data": {
      "text/plain": [
       "<matplotlib.axes._subplots.AxesSubplot at 0x7f4ec3693978>"
      ]
     },
     "execution_count": 16,
     "metadata": {},
     "output_type": "execute_result"
    },
    {
     "data": {
      "image/png": "[encoded data removed]",
      "text/plain": [
       "<Figure size 432x288 with 1 Axes>"
      ]
     },
     "metadata": {},
     "output_type": "display_data"
    }
   ],
   "source": [
    "top_ten.plot(kind='barh')"
   ]
  },
  {
   "cell_type": "markdown",
   "metadata": {},
   "source": [
    "### Section II - Q1:  Which years in the 2000s saw the most movies released? (Show top 3)"
   ]
  },
  {
   "cell_type": "code",
   "execution_count": 129,
   "metadata": {},
   "outputs": [
    {
     "data": {
      "text/plain": [
       "year\n",
       "2017    11474\n",
       "2016     9440\n",
       "2015     8702\n",
       "dtype: int64"
      ]
     },
     "execution_count": 129,
     "metadata": {},
     "output_type": "execute_result"
    }
   ],
   "source": [
    "movies_released_in_2000s = movies[movies.year >= 2000]\n",
    "s = movies_released_in_2000s.groupby(['year']).size().sort_values(ascending=False)\n",
    "s.head(3)"
   ]
  },
  {
   "cell_type": "markdown",
   "metadata": {},
   "source": [
    "### Section II - Q2: # Plot the total number of films released per-decade (1890, 1900, 1910,....)\n",
    "- Hint: Dividing the year and multiplying with a number might give you the decade the year falls into!\n",
    "- You might need to sort before plotting"
   ]
  },
  {
   "cell_type": "code",
   "execution_count": 19,
   "metadata": {},
   "outputs": [
    {
     "data": {
      "text/plain": [
       "<matplotlib.axes._subplots.AxesSubplot at 0x7f6662612630>"
      ]
     },
     "execution_count": 19,
     "metadata": {},
     "output_type": "execute_result"
    },
    {
     "data": {
      "image/png": "[encoded data removed]",
      "text/plain": [
       "<Figure size 432x288 with 1 Axes>"
      ]
     },
     "metadata": {},
     "output_type": "display_data"
    }
   ],
   "source": [
    "movies['decade'] = (movies['year'] / 10).astype(dtype='int32')\n",
    "movies['decade'] = movies['decade'] * 10\n",
    "#movies.head()\n",
    "by_decade = movies.decade.value_counts().sort_index()\n",
    "by_decade.plot(kind='barh')"
   ]
  },
  {
   "cell_type": "markdown",
   "metadata": {},
   "source": [
    "### Section II - Q3: \n",
    "\n",
    "(A) What are the top 10 most common character names in movie history?\n",
    "\n",
    "(B) Who are the top 10 people most often credited as \"Herself\" in movie history?\n",
    "\n",
    "(C) Who are the top 10 people most often credited as \"Himself\" in movie history?"
   ]
  },
  {
   "cell_type": "code",
   "execution_count": 21,
   "metadata": {},
   "outputs": [
    {
     "data": {
      "text/plain": [
       "Himself        20746\n",
       "Dancer         12477\n",
       "Extra          11948\n",
       "Reporter        8434\n",
       "Student         7773\n",
       "Doctor          7669\n",
       "Party Guest     7245\n",
       "Policeman       7029\n",
       "Nurse           6999\n",
       "Bartender       6802\n",
       "Name: character, dtype: int64"
      ]
     },
     "execution_count": 21,
     "metadata": {},
     "output_type": "execute_result"
    }
   ],
   "source": [
    "by_character_name = cast.character.value_counts()\n",
    "by_character_name.head(10)"
   ]
  },
  {
   "cell_type": "code",
   "execution_count": 25,
   "metadata": {},
   "outputs": [
    {
     "data": {
      "text/plain": [
       "Queen Elizabeth II           12\n",
       "Joyce Brothers                9\n",
       "Luisa Horga                   9\n",
       "Mar?a Luisa (V) Mart?n        9\n",
       "Hillary Clinton               8\n",
       "Margaret Thatcher             8\n",
       "Marilyn Monroe                6\n",
       "Joan Rivers                   6\n",
       "Mar?a Isabel (III) Mart?n     6\n",
       "Sumie Sakai                   6\n",
       "Name: name, dtype: int64"
      ]
     },
     "execution_count": 25,
     "metadata": {},
     "output_type": "execute_result"
    }
   ],
   "source": [
    "herself = cast[cast['character'] == 'Herself']\n",
    "herself.head()\n",
    "name_counts = herself.name.value_counts()\n",
    "name_counts.head(10)"
   ]
  },
  {
   "cell_type": "code",
   "execution_count": 26,
   "metadata": {},
   "outputs": [
    {
     "data": {
      "text/plain": [
       "Adolf Hitler             99\n",
       "Richard Nixon            44\n",
       "Ronald Reagan            41\n",
       "John F. Kennedy          37\n",
       "George W. Bush           25\n",
       "Winston Churchill        24\n",
       "Martin Luther King       23\n",
       "Ron Jeremy               22\n",
       "Bill Clinton             22\n",
       "Franklin D. Roosevelt    21\n",
       "Name: name, dtype: int64"
      ]
     },
     "execution_count": 26,
     "metadata": {},
     "output_type": "execute_result"
    }
   ],
   "source": [
    "himself = cast[cast['character'] == 'Himself']\n",
    "himself.head()\n",
    "name_counts = himself.name.value_counts()\n",
    "name_counts.head(10)"
   ]
  },
  {
   "cell_type": "markdown",
   "metadata": {},
   "source": [
    "### Section II - Q4: \n",
    "\n",
    "(A) What are the top 10 most frequent roles that start with the word \"Zombie\"?\n",
    "\n",
    "(B) What are the top 10 most frequent roles that start with the word \"Police\"?\n",
    "\n",
    "- Hint: The `startswith()` function might be useful"
   ]
  },
  {
   "cell_type": "code",
   "execution_count": 44,
   "metadata": {},
   "outputs": [
    {
     "data": {
      "text/plain": [
       "Zombie                         6264\n",
       "Zombie Horde                    206\n",
       "Zombie - Protestor - Victim      78\n",
       "Zombie Extra                     70\n",
       "Zombie Dancer                    43\n",
       "Zombie Girl                      36\n",
       "Zombie #1                        36\n",
       "Zombie #2                        31\n",
       "Zombie Vampire                   25\n",
       "Zombie Victim                    22\n",
       "Name: character, dtype: int64"
      ]
     },
     "execution_count": 44,
     "metadata": {},
     "output_type": "execute_result"
    }
   ],
   "source": [
    "zm = cast[cast['character'].str.startswith('Zombie')]\n",
    "zm.character.value_counts()[:10]"
   ]
  },
  {
   "cell_type": "code",
   "execution_count": 45,
   "metadata": {},
   "outputs": [
    {
     "data": {
      "text/plain": [
       "Policeman              7029\n",
       "Police Officer         4808\n",
       "Police Inspector        742\n",
       "Police Sergeant         674\n",
       "Police officer          539\n",
       "Police                  456\n",
       "Policewoman             415\n",
       "Police Chief            410\n",
       "Police Captain          387\n",
       "Police Commissioner     337\n",
       "Name: character, dtype: int64"
      ]
     },
     "execution_count": 45,
     "metadata": {},
     "output_type": "execute_result"
    }
   ],
   "source": [
    "police = cast[cast['character'].str.startswith('Police')]\n",
    "police.character.value_counts()[:10]"
   ]
  },
  {
   "cell_type": "markdown",
   "metadata": {},
   "source": [
    "### Section II - Q5: Plot how many roles 'Keanu Reeves' has played in each year of his career."
   ]
  },
  {
   "cell_type": "code",
   "execution_count": 69,
   "metadata": {},
   "outputs": [
    {
     "data": {
      "text/plain": [
       "<matplotlib.axes._subplots.AxesSubplot at 0x7fac5e5255f8>"
      ]
     },
     "execution_count": 69,
     "metadata": {},
     "output_type": "execute_result"
    },
    {
     "data": {
      "image/png": "[encoded data removed]",
      "text/plain": [
       "<Figure size 432x288 with 1 Axes>"
      ]
     },
     "metadata": {},
     "output_type": "display_data"
    }
   ],
   "source": [
    "kr = cast[cast.name == 'Keanu Reeves']\n",
    "kr_by_year = kr.sort_values(by='year')\n",
    "by_year = kr_by_year.year.value_counts().sort_index()\n",
    "by_year.plot(kind='barh')"
   ]
  },
  {
   "cell_type": "markdown",
   "metadata": {},
   "source": [
    "### Section II - Q6: Plot the cast positions (n-values) of Keanu Reeve's roles through his career over the years.\n"
   ]
  },
  {
   "cell_type": "code",
   "execution_count": 75,
   "metadata": {},
   "outputs": [
    {
     "data": {
      "text/plain": [
       "<matplotlib.axes._subplots.AxesSubplot at 0x7fac5214d198>"
      ]
     },
     "execution_count": 75,
     "metadata": {},
     "output_type": "execute_result"
    },
    {
     "data": {
      "image/png": "[encoded data removed]",
      "text/plain": [
       "<Figure size 432x288 with 1 Axes>"
      ]
     },
     "metadata": {},
     "output_type": "display_data"
    }
   ],
   "source": [
    "#df.plot.scatter(x='a', y='b');\n",
    "kr = cast[cast.name == 'Keanu Reeves'].dropna()\n",
    "kr_by_year = kr.sort_values(by='year')\n",
    "kr_by_year.head()\n",
    "kr_by_year.plot.scatter(x='year', y='n')"
   ]
  },
  {
   "cell_type": "markdown",
   "metadata": {},
   "source": [
    "### Section II - Q7: Plot the number of \"Hamlet\" films made by each decade"
   ]
  },
  {
   "cell_type": "code",
   "execution_count": 60,
   "metadata": {},
   "outputs": [
    {
     "data": {
      "text/plain": [
       "<matplotlib.axes._subplots.AxesSubplot at 0x7f6660ee2d30>"
      ]
     },
     "execution_count": 60,
     "metadata": {},
     "output_type": "execute_result"
    },
    {
     "data": {
      "image/png": "[encoded data removed]",
      "text/plain": [
       "<Figure size 432x288 with 1 Axes>"
      ]
     },
     "metadata": {},
     "output_type": "display_data"
    }
   ],
   "source": [
    "hamlet = movies[movies.title == 'Hamlet']\n",
    "hamlet.head()\n",
    "hamlet_by_decade = hamlet.decade.value_counts().sort_index()\n",
    "hamlet_by_decade.plot(kind='barh')"
   ]
  },
  {
   "cell_type": "markdown",
   "metadata": {},
   "source": [
    "### Section II - Q8: \n",
    "\n",
    "(A) How many leading roles were available to both actors and actresses, in the 1960s (1960-1969)?\n",
    "\n",
    "(B) How many leading roles were available to both actors and actresses, in the 2000s (2000-2009)?\n",
    "\n",
    "- Hint: A specific value of n might indicate a leading role"
   ]
  },
  {
   "cell_type": "code",
   "execution_count": 67,
   "metadata": {},
   "outputs": [
    {
     "name": "stdout",
     "output_type": "stream",
     "text": [
      "11823\n",
      "actor      8320\n",
      "actress    3503\n",
      "Name: type, dtype: int64\n"
     ]
    }
   ],
   "source": [
    "\n",
    "cast['decade'] = (cast['year'] / 10).astype(dtype='int32')\n",
    "cast['decade'] = cast['decade'] * 10\n",
    "all_60s = cast[cast['decade'] == 1960]\n",
    "len(all_60s)\n",
    "leading_60s = all_60s[all_60s['n'] == 1]\n",
    "print(len(leading_60s))\n",
    "#leading_60s.head()\n",
    "#print(leading_60s.type.value_counts())"
   ]
  },
  {
   "cell_type": "code",
   "execution_count": 71,
   "metadata": {},
   "outputs": [
    {
     "name": "stdout",
     "output_type": "stream",
     "text": [
      "26344\n"
     ]
    }
   ],
   "source": [
    "all_2000s = cast[cast['decade'] == 2000]\n",
    "len(all_2000s)\n",
    "leading_2000s = all_2000s[all_2000s['n'] == 1]\n",
    "print(len(leading_2000s))\n",
    "#print(leading_2000s.head())\n",
    "#print(leading_2000s.type.value_counts())"
   ]
  },
  {
   "cell_type": "markdown",
   "metadata": {},
   "source": [
    "### Section II - Q9: List, in order by year, each of the films in which Frank Oz has played more than 1 role."
   ]
  },
  {
   "cell_type": "code",
   "execution_count": 67,
   "metadata": {},
   "outputs": [
    {
     "name": "stdout",
     "output_type": "stream",
     "text": [
      "46\n",
      "         year  Count                                 title\n",
      "1723645  1979      8                      The Muppet Movie\n",
      "1723598  1981      2        An American Werewolf in London\n",
      "1723632  1981      6                The Great Muppet Caper\n",
      "1723629  1982      2                      The Dark Crystal\n",
      "1723653  1984      7            The Muppets Take Manhattan\n",
      "1723601  1985      3                      Follow That Bird\n",
      "1723638  1992      7            The Muppet Christmas Carol\n",
      "1723608  1996      4                Muppet Treasure Island\n",
      "1723612  1999      4                    Muppets from Space\n",
      "1723625  1999      3  The Adventures of Elmo in Grouchland\n"
     ]
    },
    {
     "name": "stderr",
     "output_type": "stream",
     "text": [
      "/usr/local/anaconda/lib/python3.6/site-packages/ipykernel_launcher.py:4: SettingWithCopyWarning: \n",
      "A value is trying to be set on a copy of a slice from a DataFrame.\n",
      "Try using .loc[row_indexer,col_indexer] = value instead\n",
      "\n",
      "See the caveats in the documentation: http://pandas.pydata.org/pandas-docs/stable/indexing.html#indexing-view-versus-copy\n",
      "  after removing the cwd from sys.path.\n"
     ]
    }
   ],
   "source": [
    "#cast = pd.read_csv('cast.csv.bz2', compression='bz2')\n",
    "#cast.head()\n",
    "frank = cast[cast['name'] == 'Frank Oz']\n",
    "frank['Count'] = frank.groupby(['title'])['title'].transform('count')\n",
    "frank_more_than_one = frank[frank['Count'] > 1]\n",
    "print(len(frank_more_than_one))\n",
    "f = frank_more_than_one[['year', 'Count', 'title']].drop_duplicates().sort_values('year')\n",
    "print(f)\n"
   ]
  },
  {
   "cell_type": "markdown",
   "metadata": {},
   "source": [
    "### Section II - Q10: List each of the characters that Frank Oz has portrayed at least twice"
   ]
  },
  {
   "cell_type": "code",
   "execution_count": 68,
   "metadata": {},
   "outputs": [
    {
     "name": "stdout",
     "output_type": "stream",
     "text": [
      "         year  Count                                 title  \\\n",
      "1723652  1979      8                      The Muppet Movie   \n",
      "1723651  1979      8                      The Muppet Movie   \n",
      "1723650  1979      8                      The Muppet Movie   \n",
      "1723649  1979      8                      The Muppet Movie   \n",
      "1723648  1979      8                      The Muppet Movie   \n",
      "1723647  1979      8                      The Muppet Movie   \n",
      "1723646  1979      8                      The Muppet Movie   \n",
      "1723645  1979      8                      The Muppet Movie   \n",
      "1723598  1981      2        An American Werewolf in London   \n",
      "1723637  1981      6                The Great Muppet Caper   \n",
      "1723635  1981      6                The Great Muppet Caper   \n",
      "1723634  1981      6                The Great Muppet Caper   \n",
      "1723633  1981      6                The Great Muppet Caper   \n",
      "1723632  1981      6                The Great Muppet Caper   \n",
      "1723636  1981      6                The Great Muppet Caper   \n",
      "1723599  1981      2        An American Werewolf in London   \n",
      "1723629  1982      2                      The Dark Crystal   \n",
      "1723630  1982      2                      The Dark Crystal   \n",
      "1723659  1984      7            The Muppets Take Manhattan   \n",
      "1723657  1984      7            The Muppets Take Manhattan   \n",
      "1723656  1984      7            The Muppets Take Manhattan   \n",
      "1723655  1984      7            The Muppets Take Manhattan   \n",
      "1723654  1984      7            The Muppets Take Manhattan   \n",
      "1723658  1984      7            The Muppets Take Manhattan   \n",
      "1723653  1984      7            The Muppets Take Manhattan   \n",
      "1723601  1985      3                      Follow That Bird   \n",
      "1723602  1985      3                      Follow That Bird   \n",
      "1723603  1985      3                      Follow That Bird   \n",
      "1723643  1992      7            The Muppet Christmas Carol   \n",
      "1723644  1992      7            The Muppet Christmas Carol   \n",
      "1723641  1992      7            The Muppet Christmas Carol   \n",
      "1723640  1992      7            The Muppet Christmas Carol   \n",
      "1723639  1992      7            The Muppet Christmas Carol   \n",
      "1723638  1992      7            The Muppet Christmas Carol   \n",
      "1723642  1992      7            The Muppet Christmas Carol   \n",
      "1723611  1996      4                Muppet Treasure Island   \n",
      "1723610  1996      4                Muppet Treasure Island   \n",
      "1723609  1996      4                Muppet Treasure Island   \n",
      "1723608  1996      4                Muppet Treasure Island   \n",
      "1723626  1999      3  The Adventures of Elmo in Grouchland   \n",
      "1723612  1999      4                    Muppets from Space   \n",
      "1723613  1999      4                    Muppets from Space   \n",
      "1723614  1999      4                    Muppets from Space   \n",
      "1723615  1999      4                    Muppets from Space   \n",
      "1723625  1999      3  The Adventures of Elmo in Grouchland   \n",
      "1723627  1999      3  The Adventures of Elmo in Grouchland   \n",
      "\n",
      "                                                 character  \n",
      "1723652                                     Motorcycle Guy  \n",
      "1723651                           Swedish Chef (assistant)  \n",
      "1723650                                       Marvin Suggs  \n",
      "1723649                                   Doc Hopper's Men  \n",
      "1723648                                      Sam the Eagle  \n",
      "1723647                                             Animal  \n",
      "1723646                                        Fozzie Bear  \n",
      "1723645                                         Miss Piggy  \n",
      "1723598                                        Mr. Collins  \n",
      "1723637                                       Swedish Chef  \n",
      "1723635                                      Sam the Eagle  \n",
      "1723634                                             Animal  \n",
      "1723633                                        Fozzie Bear  \n",
      "1723632                                         Miss Piggy  \n",
      "1723636                                             Gramps  \n",
      "1723599                                         Miss Piggy  \n",
      "1723629            Aughra, a Keeper Of Secrets (performer)  \n",
      "1723630                            Chamberlain (performer)  \n",
      "1723659                                      Sam the Eagle  \n",
      "1723657                                     Cookie Monster  \n",
      "1723656                                               Bert  \n",
      "1723655                                             Animal  \n",
      "1723654                                             Fozzie  \n",
      "1723658                     Ocean Breeze Soap Board Member  \n",
      "1723653                                         Miss Piggy  \n",
      "1723601                                     Cookie Monster  \n",
      "1723602                                               Bert  \n",
      "1723603                                             Grover  \n",
      "1723643                          Horse and Carriage Driver  \n",
      "1723644                                 Vegetable Salesman  \n",
      "1723641                                             Animal  \n",
      "1723640  Sam the Eagle as Headmaster of Junior High Gra...  \n",
      "1723639                           Fozzie Bear as Fozziewig  \n",
      "1723638                       Miss Piggy as Emily Cratchit  \n",
      "1723642                                 George the Janitor  \n",
      "1723611                                             Animal  \n",
      "1723610                                      Sam the Eagle  \n",
      "1723609                                        Fozzie Bear  \n",
      "1723608                                         Miss Piggy  \n",
      "1723626                                             Grover  \n",
      "1723612                                         Miss Piggy  \n",
      "1723613                                        Fozzie Bear  \n",
      "1723614                                             Animal  \n",
      "1723615                                      Sam the Eagle  \n",
      "1723625                                               Bert  \n",
      "1723627                                     Cookie Monster  \n"
     ]
    }
   ],
   "source": [
    "f = frank_more_than_one[['year', 'Count', 'title', 'character']].drop_duplicates().sort_values('year')\n",
    "print(f)"
   ]
  },
  {
   "cell_type": "markdown",
   "metadata": {},
   "source": [
    "# Section III - Advanced Merging, Querying and Visualizations"
   ]
  },
  {
   "cell_type": "markdown",
   "metadata": {},
   "source": [
    "## Make a bar plot with the following conditions\n",
    "- Frequency of the number of movies with \"Christmas\" in their title \n",
    "- Movies should be such that they are released in the USA.\n",
    "- Show the frequency plot by month"
   ]
  },
  {
   "cell_type": "code",
   "execution_count": 17,
   "metadata": {},
   "outputs": [
    {
     "data": {
      "text/plain": [
       "<matplotlib.axes._subplots.AxesSubplot at 0x7f4eca6865c0>"
      ]
     },
     "execution_count": 17,
     "metadata": {},
     "output_type": "execute_result"
    },
    {
     "data": {
      "image/png": "[encoded data removed]",
      "text/plain": [
       "<Figure size 432x288 with 1 Axes>"
      ]
     },
     "metadata": {},
     "output_type": "display_data"
    }
   ],
   "source": [
    "christmas = release_dates[(release_dates.title.str.contains('Christmas')) & (release_dates.country == 'USA')]\n",
    "christmas.date.dt.month.value_counts().sort_index().plot(kind='bar')"
   ]
  },
  {
   "cell_type": "markdown",
   "metadata": {},
   "source": [
    "### Section III - Q1: Make a bar plot with the following conditions\n",
    "- Frequency of the number of movies with \"Summer\" in their title \n",
    "- Movies should be such that they are released in the USA.\n",
    "- Show the frequency plot by month"
   ]
  },
  {
   "cell_type": "code",
   "execution_count": 76,
   "metadata": {},
   "outputs": [
    {
     "data": {
      "text/plain": [
       "<matplotlib.axes._subplots.AxesSubplot at 0x7fac54372860>"
      ]
     },
     "execution_count": 76,
     "metadata": {},
     "output_type": "execute_result"
    },
    {
     "data": {
      "image/png": "[encoded data removed]",
      "text/plain": [
       "<Figure size 432x288 with 1 Axes>"
      ]
     },
     "metadata": {},
     "output_type": "display_data"
    }
   ],
   "source": [
    "summer = release_dates[(release_dates.title.str.contains('Summer')) & (release_dates.country == 'USA')]\n",
    "summer.date.dt.month.value_counts().sort_index().plot(kind='bar')"
   ]
  },
  {
   "cell_type": "markdown",
   "metadata": {},
   "source": [
    "### Section III - Q2: Make a bar plot with the following conditions\n",
    "- Frequency of the number of movies with \"Action\" in their title \n",
    "- Movies should be such that they are released in the USA.\n",
    "- Show the frequency plot by week"
   ]
  },
  {
   "cell_type": "code",
   "execution_count": 78,
   "metadata": {},
   "outputs": [
    {
     "data": {
      "text/plain": [
       "<matplotlib.axes._subplots.AxesSubplot at 0x7fac55566278>"
      ]
     },
     "execution_count": 78,
     "metadata": {},
     "output_type": "execute_result"
    },
    {
     "data": {
      "image/png": "[encoded data removed]",
      "text/plain": [
       "<Figure size 432x288 with 1 Axes>"
      ]
     },
     "metadata": {},
     "output_type": "display_data"
    }
   ],
   "source": [
    "action = release_dates[(release_dates.title.str.contains('Action')) & (release_dates.country == 'USA')]\n",
    "action.date.dt.week.value_counts().sort_index().plot(kind='bar')"
   ]
  },
  {
   "cell_type": "markdown",
   "metadata": {},
   "source": [
    "### Section III - Q3: Show all the movies in which Keanu Reeves has played the lead role along with their   release date in the USA sorted by the date of release\n",
    "- Hint: You might need to join or merge two datasets!"
   ]
  },
  {
   "cell_type": "code",
   "execution_count": 92,
   "metadata": {},
   "outputs": [
    {
     "name": "stdout",
     "output_type": "stream",
     "text": [
      "26\n",
      "                               title  year_x          name   type  \\\n",
      "14                             Speed    1994  Keanu Reeves  actor   \n",
      "15                             Speed    1994  Keanu Reeves  actor   \n",
      "18                    Sweet November    2001  Keanu Reeves  actor   \n",
      "24                  The Night Before    1988  Keanu Reeves  actor   \n",
      "3   Bill & Ted's Excellent Adventure    1989  Keanu Reeves  actor   \n",
      "2         Bill & Ted's Bogus Journey    1991  Keanu Reeves  actor   \n",
      "13                     Little Buddha    1993  Keanu Reeves  actor   \n",
      "16                             Speed    1994  Keanu Reeves  actor   \n",
      "10                   Johnny Mnemonic    1995  Keanu Reeves  actor   \n",
      "1               A Walk in the Clouds    1995  Keanu Reeves  actor   \n",
      "4                     Chain Reaction    1996  Keanu Reeves  actor   \n",
      "6                  Feeling Minnesota    1996  Keanu Reeves  actor   \n",
      "21              The Devil's Advocate    1997  Keanu Reeves  actor   \n",
      "23                        The Matrix    1999  Keanu Reeves  actor   \n",
      "25                  The Replacements    2000  Keanu Reeves  actor   \n",
      "19                    Sweet November    2001  Keanu Reeves  actor   \n",
      "7                          Hard Ball    2001  Keanu Reeves  actor   \n",
      "5                        Constantine    2005  Keanu Reeves  actor   \n",
      "22                    The Lake House    2006  Keanu Reeves  actor   \n",
      "17                      Street Kings    2008  Keanu Reeves  actor   \n",
      "20     The Day the Earth Stood Still    2008  Keanu Reeves  actor   \n",
      "0                           47 Ronin    2013  Keanu Reeves  actor   \n",
      "8                          John Wick    2014  Keanu Reeves  actor   \n",
      "11                       Knock Knock    2015  Keanu Reeves  actor   \n",
      "9               John Wick: Chapter 2    2017  Keanu Reeves  actor   \n",
      "12                       Knock Knock    2015  Keanu Reeves  actor   \n",
      "\n",
      "               character    n  year_y country       date  \n",
      "14           Jack Traven  1.0    1922     USA 1922-10-22  \n",
      "15           Jack Traven  1.0    1936     USA 1936-05-08  \n",
      "18           Nelson Moss  1.0    1968     USA 1968-02-08  \n",
      "24      Winston Connelly  1.0    1988     USA 1988-04-15  \n",
      "3                    Ted  1.0    1989     USA 1989-02-17  \n",
      "2                    Ted  1.0    1991     USA 1991-07-19  \n",
      "13            Siddhartha  1.0    1993     USA 1994-05-25  \n",
      "16           Jack Traven  1.0    1994     USA 1994-06-10  \n",
      "10       Johnny Mnemonic  1.0    1995     USA 1995-05-26  \n",
      "1            Paul Sutton  1.0    1995     USA 1995-08-11  \n",
      "4       Eddie Kasalivich  1.0    1996     USA 1996-08-02  \n",
      "6          Jjaks Clayton  1.0    1996     USA 1996-09-13  \n",
      "21           Kevin Lomax  1.0    1997     USA 1997-10-17  \n",
      "23                   Neo  1.0    1999     USA 1999-03-31  \n",
      "25           Shane Falco  1.0    2000     USA 2000-08-11  \n",
      "19           Nelson Moss  1.0    2001     USA 2001-02-16  \n",
      "7          Conor O'Neill  1.0    2001     USA 2001-09-14  \n",
      "5       John Constantine  1.0    2005     USA 2005-02-18  \n",
      "22            Alex Wyler  1.0    2006     USA 2006-06-16  \n",
      "17  Detective Tom Ludlow  1.0    2008     USA 2008-04-11  \n",
      "20                Klaatu  1.0    2008     USA 2008-12-12  \n",
      "0                    Kai  1.0    2013     USA 2013-12-25  \n",
      "8              John Wick  1.0    2014     USA 2014-10-24  \n",
      "11                  Evan  1.0    2015     USA 2015-10-09  \n",
      "9              John Wick  1.0    2017     USA 2017-02-10  \n",
      "12                  Evan  1.0    2017     USA 2017-10-06  \n"
     ]
    }
   ],
   "source": [
    "kr = cast[(cast.name == 'Keanu Reeves')]\n",
    "kr_lead = kr[(kr.n == 1)]\n",
    "\n",
    "usa_movies = release_dates[(release_dates.country == 'USA')]\n",
    "#print(kr_lead.head())\n",
    "#print(usa_movies .head())\n",
    "kr_with_us_release_dates = kr_lead.merge(usa_movies, on='title').sort_values('date')\n",
    "print(len(kr_with_us_release_dates))\n",
    "print(kr_with_us_release_dates)"
   ]
  },
  {
   "cell_type": "markdown",
   "metadata": {},
   "source": [
    "### Section III - Q4: Make a bar plot showing the months in which movies with Keanu Reeves tend to be released in the USA?"
   ]
  },
  {
   "cell_type": "code",
   "execution_count": 94,
   "metadata": {},
   "outputs": [
    {
     "data": {
      "text/plain": [
       "<matplotlib.axes._subplots.AxesSubplot at 0x7fac5e927208>"
      ]
     },
     "execution_count": 94,
     "metadata": {},
     "output_type": "execute_result"
    },
    {
     "data": {
      "image/png": "[encoded data removed]",
      "text/plain": [
       "<Figure size 432x288 with 1 Axes>"
      ]
     },
     "metadata": {},
     "output_type": "display_data"
    }
   ],
   "source": [
    "kr = cast[(cast.name == 'Keanu Reeves')]\n",
    "kr_lead = kr[(kr.n == 1)]\n",
    "\n",
    "usa_movies = release_dates[(release_dates.country == 'USA')]\n",
    "#print(kr_lead.head())\n",
    "#print(usa_movies .head())\n",
    "kr_with_us_release_dates = kr_lead.merge(usa_movies, on='title').sort_values('date')\n",
    "#print(len(kr_with_us_release_dates))\n",
    "#print(kr_with_us_release_dates)\n",
    "kr_with_us_release_dates.date.dt.month.value_counts().sort_index().plot(kind='bar')"
   ]
  },
  {
   "cell_type": "markdown",
   "metadata": {},
   "source": [
    "### Section III - Q5: Make a bar plot showing the years in which movies with Ian McKellen tend to be released in the USA?"
   ]
  },
  {
   "cell_type": "code",
   "execution_count": 95,
   "metadata": {},
   "outputs": [
    {
     "data": {
      "text/plain": [
       "<matplotlib.axes._subplots.AxesSubplot at 0x7fac62f01e48>"
      ]
     },
     "execution_count": 95,
     "metadata": {},
     "output_type": "execute_result"
    },
    {
     "data": {
      "image/png": "[encoded data removed]",
      "text/plain": [
       "<Figure size 432x288 with 1 Axes>"
      ]
     },
     "metadata": {},
     "output_type": "display_data"
    }
   ],
   "source": [
    "im = cast[(cast.name == 'Ian McKellen')]\n",
    "usa_movies = release_dates[(release_dates.country == 'USA')]\n",
    "im_with_us_release_dates = im.merge(usa_movies, on='title').sort_values('date')\n",
    "im_with_us_release_dates.date.dt.year.value_counts().sort_index().plot(kind='bar')"
   ]
  },
  {
   "cell_type": "code",
   "execution_count": null,
   "metadata": {
    "collapsed": true
   },
   "outputs": [],
   "source": []
  }
 ],
 "metadata": {
  "kernelspec": {
   "display_name": "Python 3",
   "language": "python",
   "name": "python3"
  },
  "language_info": {
   "codemirror_mode": {
    "name": "ipython",
    "version": 3
   },
   "file_extension": ".py",
   "mimetype": "text/x-python",
   "name": "python",
   "nbconvert_exporter": "python",
   "pygments_lexer": "ipython3",
   "version": "3.6.2"
  }
 },
 "nbformat": 4,
 "nbformat_minor": 2
}
